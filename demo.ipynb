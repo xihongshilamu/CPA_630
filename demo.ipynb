{
 "cells": [
  {
   "cell_type": "markdown",
   "metadata": {},
   "source": [
    "# A tour of the CPA model"
   ]
  },
  {
   "cell_type": "code",
   "execution_count": 1,
   "metadata": {},
   "outputs": [],
   "source": [
    "# some standard packages to assist this tutorial\n",
    "import cpa\n",
    "import matplotlib.pyplot as plt\n",
    "import pandas as pd\n",
    "import scanpy as sc\n",
    "\n",
    "%load_ext autoreload\n",
    "%autoreload 2"
   ]
  },
  {
   "cell_type": "markdown",
   "metadata": {},
   "source": [
    "# Training your model"
   ]
  },
  {
   "cell_type": "markdown",
   "metadata": {},
   "source": [
    "### Init your model"
   ]
  },
  {
   "cell_type": "code",
   "execution_count": 2,
   "metadata": {},
   "outputs": [],
   "source": [
    "adata = sc.read('/data/share/cnic02/data/cpa_binaries/datasets/GSM_new.h5ad') # 14811*4999\n",
    "# data = sc.read_csv('/data/share/scRNA_10X_data/pipeline_by_ourteam/NO1_data/SRR9621088_count.csv')\n",
    "model_save_dir = './pretrained_models/'"
   ]
  },
  {
   "cell_type": "code",
   "execution_count": 3,
   "metadata": {},
   "outputs": [
    {
     "data": {
      "text/plain": [
       "(14811, 4999)"
      ]
     },
     "execution_count": 3,
     "metadata": {},
     "output_type": "execute_result"
    }
   ],
   "source": [
    "adata.X.toarray().shape"
   ]
  },
  {
   "cell_type": "code",
   "execution_count": 3,
   "metadata": {},
   "outputs": [
    {
     "data": {
      "text/html": [
       "<div>\n",
       "<style scoped>\n",
       "    .dataframe tbody tr th:only-of-type {\n",
       "        vertical-align: middle;\n",
       "    }\n",
       "\n",
       "    .dataframe tbody tr th {\n",
       "        vertical-align: top;\n",
       "    }\n",
       "\n",
       "    .dataframe thead th {\n",
       "        text-align: right;\n",
       "    }\n",
       "</style>\n",
       "<table border=\"1\" class=\"dataframe\">\n",
       "  <thead>\n",
       "    <tr style=\"text-align: right;\">\n",
       "      <th>index</th>\n",
       "      <th>SCYL3</th>\n",
       "      <th>C1orf112</th>\n",
       "      <th>GCLC</th>\n",
       "      <th>STPG1</th>\n",
       "      <th>KRIT1</th>\n",
       "      <th>RAD52</th>\n",
       "      <th>MYH16</th>\n",
       "      <th>BAD</th>\n",
       "      <th>KLHL13</th>\n",
       "      <th>ICA1</th>\n",
       "      <th>...</th>\n",
       "      <th>AL589669.1</th>\n",
       "      <th>AL391117.1</th>\n",
       "      <th>AC092718.8</th>\n",
       "      <th>AC015802.6</th>\n",
       "      <th>AC087565.3</th>\n",
       "      <th>AC006511.5</th>\n",
       "      <th>AC079781.5</th>\n",
       "      <th>AL034417.3</th>\n",
       "      <th>AC087269.2</th>\n",
       "      <th>AL358472.5</th>\n",
       "    </tr>\n",
       "    <tr>\n",
       "      <th>index</th>\n",
       "      <th></th>\n",
       "      <th></th>\n",
       "      <th></th>\n",
       "      <th></th>\n",
       "      <th></th>\n",
       "      <th></th>\n",
       "      <th></th>\n",
       "      <th></th>\n",
       "      <th></th>\n",
       "      <th></th>\n",
       "      <th></th>\n",
       "      <th></th>\n",
       "      <th></th>\n",
       "      <th></th>\n",
       "      <th></th>\n",
       "      <th></th>\n",
       "      <th></th>\n",
       "      <th></th>\n",
       "      <th></th>\n",
       "      <th></th>\n",
       "      <th></th>\n",
       "    </tr>\n",
       "  </thead>\n",
       "  <tbody>\n",
       "    <tr>\n",
       "      <th>A01_A01_RT_390</th>\n",
       "      <td>0.000000</td>\n",
       "      <td>0.000000</td>\n",
       "      <td>0.778132</td>\n",
       "      <td>0.00000</td>\n",
       "      <td>0.000000</td>\n",
       "      <td>0.000000</td>\n",
       "      <td>0.0</td>\n",
       "      <td>0.0</td>\n",
       "      <td>0.0</td>\n",
       "      <td>0.000000</td>\n",
       "      <td>...</td>\n",
       "      <td>0.0</td>\n",
       "      <td>0.0</td>\n",
       "      <td>0.0</td>\n",
       "      <td>0.0</td>\n",
       "      <td>0.0</td>\n",
       "      <td>0.0</td>\n",
       "      <td>0.000000</td>\n",
       "      <td>0.0</td>\n",
       "      <td>0.0</td>\n",
       "      <td>0.000000</td>\n",
       "    </tr>\n",
       "    <tr>\n",
       "      <th>A01_A01_RT_396</th>\n",
       "      <td>0.000000</td>\n",
       "      <td>0.000000</td>\n",
       "      <td>1.247217</td>\n",
       "      <td>0.00000</td>\n",
       "      <td>0.482525</td>\n",
       "      <td>0.000000</td>\n",
       "      <td>0.0</td>\n",
       "      <td>0.0</td>\n",
       "      <td>0.0</td>\n",
       "      <td>0.482525</td>\n",
       "      <td>...</td>\n",
       "      <td>0.0</td>\n",
       "      <td>0.0</td>\n",
       "      <td>0.0</td>\n",
       "      <td>0.0</td>\n",
       "      <td>0.0</td>\n",
       "      <td>0.0</td>\n",
       "      <td>0.000000</td>\n",
       "      <td>0.0</td>\n",
       "      <td>0.0</td>\n",
       "      <td>0.000000</td>\n",
       "    </tr>\n",
       "    <tr>\n",
       "      <th>A01_A01_RT_400</th>\n",
       "      <td>0.000000</td>\n",
       "      <td>0.000000</td>\n",
       "      <td>0.000000</td>\n",
       "      <td>0.00000</td>\n",
       "      <td>0.000000</td>\n",
       "      <td>0.000000</td>\n",
       "      <td>0.0</td>\n",
       "      <td>0.0</td>\n",
       "      <td>0.0</td>\n",
       "      <td>0.000000</td>\n",
       "      <td>...</td>\n",
       "      <td>0.0</td>\n",
       "      <td>0.0</td>\n",
       "      <td>0.0</td>\n",
       "      <td>0.0</td>\n",
       "      <td>0.0</td>\n",
       "      <td>0.0</td>\n",
       "      <td>0.000000</td>\n",
       "      <td>0.0</td>\n",
       "      <td>0.0</td>\n",
       "      <td>0.000000</td>\n",
       "    </tr>\n",
       "    <tr>\n",
       "      <th>A01_A01_RT_401</th>\n",
       "      <td>0.000000</td>\n",
       "      <td>0.000000</td>\n",
       "      <td>1.752160</td>\n",
       "      <td>0.00000</td>\n",
       "      <td>0.584731</td>\n",
       "      <td>0.000000</td>\n",
       "      <td>0.0</td>\n",
       "      <td>0.0</td>\n",
       "      <td>0.0</td>\n",
       "      <td>0.000000</td>\n",
       "      <td>...</td>\n",
       "      <td>0.0</td>\n",
       "      <td>0.0</td>\n",
       "      <td>0.0</td>\n",
       "      <td>0.0</td>\n",
       "      <td>0.0</td>\n",
       "      <td>0.0</td>\n",
       "      <td>0.000000</td>\n",
       "      <td>0.0</td>\n",
       "      <td>0.0</td>\n",
       "      <td>0.000000</td>\n",
       "    </tr>\n",
       "    <tr>\n",
       "      <th>A01_A01_RT_402</th>\n",
       "      <td>0.000000</td>\n",
       "      <td>0.000000</td>\n",
       "      <td>1.203176</td>\n",
       "      <td>0.00000</td>\n",
       "      <td>0.000000</td>\n",
       "      <td>0.000000</td>\n",
       "      <td>0.0</td>\n",
       "      <td>0.0</td>\n",
       "      <td>0.0</td>\n",
       "      <td>0.255676</td>\n",
       "      <td>...</td>\n",
       "      <td>0.0</td>\n",
       "      <td>0.0</td>\n",
       "      <td>0.0</td>\n",
       "      <td>0.0</td>\n",
       "      <td>0.0</td>\n",
       "      <td>0.0</td>\n",
       "      <td>0.255676</td>\n",
       "      <td>0.0</td>\n",
       "      <td>0.0</td>\n",
       "      <td>0.000000</td>\n",
       "    </tr>\n",
       "    <tr>\n",
       "      <th>...</th>\n",
       "      <td>...</td>\n",
       "      <td>...</td>\n",
       "      <td>...</td>\n",
       "      <td>...</td>\n",
       "      <td>...</td>\n",
       "      <td>...</td>\n",
       "      <td>...</td>\n",
       "      <td>...</td>\n",
       "      <td>...</td>\n",
       "      <td>...</td>\n",
       "      <td>...</td>\n",
       "      <td>...</td>\n",
       "      <td>...</td>\n",
       "      <td>...</td>\n",
       "      <td>...</td>\n",
       "      <td>...</td>\n",
       "      <td>...</td>\n",
       "      <td>...</td>\n",
       "      <td>...</td>\n",
       "      <td>...</td>\n",
       "      <td>...</td>\n",
       "    </tr>\n",
       "    <tr>\n",
       "      <th>H12_B02_RT_745</th>\n",
       "      <td>0.000000</td>\n",
       "      <td>0.000000</td>\n",
       "      <td>0.861676</td>\n",
       "      <td>0.00000</td>\n",
       "      <td>0.861676</td>\n",
       "      <td>0.000000</td>\n",
       "      <td>0.0</td>\n",
       "      <td>0.0</td>\n",
       "      <td>0.0</td>\n",
       "      <td>0.000000</td>\n",
       "      <td>...</td>\n",
       "      <td>0.0</td>\n",
       "      <td>0.0</td>\n",
       "      <td>0.0</td>\n",
       "      <td>0.0</td>\n",
       "      <td>0.0</td>\n",
       "      <td>0.0</td>\n",
       "      <td>0.000000</td>\n",
       "      <td>0.0</td>\n",
       "      <td>0.0</td>\n",
       "      <td>0.000000</td>\n",
       "    </tr>\n",
       "    <tr>\n",
       "      <th>H12_B02_RT_750</th>\n",
       "      <td>0.000000</td>\n",
       "      <td>0.000000</td>\n",
       "      <td>0.000000</td>\n",
       "      <td>0.00000</td>\n",
       "      <td>0.000000</td>\n",
       "      <td>0.968888</td>\n",
       "      <td>0.0</td>\n",
       "      <td>0.0</td>\n",
       "      <td>0.0</td>\n",
       "      <td>0.000000</td>\n",
       "      <td>...</td>\n",
       "      <td>0.0</td>\n",
       "      <td>0.0</td>\n",
       "      <td>0.0</td>\n",
       "      <td>0.0</td>\n",
       "      <td>0.0</td>\n",
       "      <td>0.0</td>\n",
       "      <td>0.000000</td>\n",
       "      <td>0.0</td>\n",
       "      <td>0.0</td>\n",
       "      <td>0.000000</td>\n",
       "    </tr>\n",
       "    <tr>\n",
       "      <th>H12_B02_RT_752</th>\n",
       "      <td>0.484532</td>\n",
       "      <td>0.000000</td>\n",
       "      <td>1.157495</td>\n",
       "      <td>0.00000</td>\n",
       "      <td>0.271330</td>\n",
       "      <td>0.271330</td>\n",
       "      <td>0.0</td>\n",
       "      <td>0.0</td>\n",
       "      <td>0.0</td>\n",
       "      <td>0.939436</td>\n",
       "      <td>...</td>\n",
       "      <td>0.0</td>\n",
       "      <td>0.0</td>\n",
       "      <td>0.0</td>\n",
       "      <td>0.0</td>\n",
       "      <td>0.0</td>\n",
       "      <td>0.0</td>\n",
       "      <td>0.000000</td>\n",
       "      <td>0.0</td>\n",
       "      <td>0.0</td>\n",
       "      <td>0.000000</td>\n",
       "    </tr>\n",
       "    <tr>\n",
       "      <th>H12_B02_RT_753</th>\n",
       "      <td>0.501668</td>\n",
       "      <td>0.000000</td>\n",
       "      <td>0.501668</td>\n",
       "      <td>0.83419</td>\n",
       "      <td>0.501668</td>\n",
       "      <td>0.000000</td>\n",
       "      <td>0.0</td>\n",
       "      <td>0.0</td>\n",
       "      <td>0.0</td>\n",
       "      <td>0.000000</td>\n",
       "      <td>...</td>\n",
       "      <td>0.0</td>\n",
       "      <td>0.0</td>\n",
       "      <td>0.0</td>\n",
       "      <td>0.0</td>\n",
       "      <td>0.0</td>\n",
       "      <td>0.0</td>\n",
       "      <td>0.000000</td>\n",
       "      <td>0.0</td>\n",
       "      <td>0.0</td>\n",
       "      <td>0.000000</td>\n",
       "    </tr>\n",
       "    <tr>\n",
       "      <th>H12_B02_RT_761</th>\n",
       "      <td>0.000000</td>\n",
       "      <td>0.699331</td>\n",
       "      <td>1.513680</td>\n",
       "      <td>0.00000</td>\n",
       "      <td>0.699331</td>\n",
       "      <td>0.000000</td>\n",
       "      <td>0.0</td>\n",
       "      <td>0.0</td>\n",
       "      <td>0.0</td>\n",
       "      <td>0.000000</td>\n",
       "      <td>...</td>\n",
       "      <td>0.0</td>\n",
       "      <td>0.0</td>\n",
       "      <td>0.0</td>\n",
       "      <td>0.0</td>\n",
       "      <td>0.0</td>\n",
       "      <td>0.0</td>\n",
       "      <td>0.000000</td>\n",
       "      <td>0.0</td>\n",
       "      <td>0.0</td>\n",
       "      <td>0.409592</td>\n",
       "    </tr>\n",
       "  </tbody>\n",
       "</table>\n",
       "<p>14811 rows × 4999 columns</p>\n",
       "</div>"
      ],
      "text/plain": [
       "index              SCYL3  C1orf112      GCLC    STPG1     KRIT1     RAD52   \n",
       "index                                                                       \n",
       "A01_A01_RT_390  0.000000  0.000000  0.778132  0.00000  0.000000  0.000000  \\\n",
       "A01_A01_RT_396  0.000000  0.000000  1.247217  0.00000  0.482525  0.000000   \n",
       "A01_A01_RT_400  0.000000  0.000000  0.000000  0.00000  0.000000  0.000000   \n",
       "A01_A01_RT_401  0.000000  0.000000  1.752160  0.00000  0.584731  0.000000   \n",
       "A01_A01_RT_402  0.000000  0.000000  1.203176  0.00000  0.000000  0.000000   \n",
       "...                  ...       ...       ...      ...       ...       ...   \n",
       "H12_B02_RT_745  0.000000  0.000000  0.861676  0.00000  0.861676  0.000000   \n",
       "H12_B02_RT_750  0.000000  0.000000  0.000000  0.00000  0.000000  0.968888   \n",
       "H12_B02_RT_752  0.484532  0.000000  1.157495  0.00000  0.271330  0.271330   \n",
       "H12_B02_RT_753  0.501668  0.000000  0.501668  0.83419  0.501668  0.000000   \n",
       "H12_B02_RT_761  0.000000  0.699331  1.513680  0.00000  0.699331  0.000000   \n",
       "\n",
       "index           MYH16  BAD  KLHL13      ICA1  ...  AL589669.1  AL391117.1   \n",
       "index                                         ...                           \n",
       "A01_A01_RT_390    0.0  0.0     0.0  0.000000  ...         0.0         0.0  \\\n",
       "A01_A01_RT_396    0.0  0.0     0.0  0.482525  ...         0.0         0.0   \n",
       "A01_A01_RT_400    0.0  0.0     0.0  0.000000  ...         0.0         0.0   \n",
       "A01_A01_RT_401    0.0  0.0     0.0  0.000000  ...         0.0         0.0   \n",
       "A01_A01_RT_402    0.0  0.0     0.0  0.255676  ...         0.0         0.0   \n",
       "...               ...  ...     ...       ...  ...         ...         ...   \n",
       "H12_B02_RT_745    0.0  0.0     0.0  0.000000  ...         0.0         0.0   \n",
       "H12_B02_RT_750    0.0  0.0     0.0  0.000000  ...         0.0         0.0   \n",
       "H12_B02_RT_752    0.0  0.0     0.0  0.939436  ...         0.0         0.0   \n",
       "H12_B02_RT_753    0.0  0.0     0.0  0.000000  ...         0.0         0.0   \n",
       "H12_B02_RT_761    0.0  0.0     0.0  0.000000  ...         0.0         0.0   \n",
       "\n",
       "index           AC092718.8  AC015802.6  AC087565.3  AC006511.5  AC079781.5   \n",
       "index                                                                        \n",
       "A01_A01_RT_390         0.0         0.0         0.0         0.0    0.000000  \\\n",
       "A01_A01_RT_396         0.0         0.0         0.0         0.0    0.000000   \n",
       "A01_A01_RT_400         0.0         0.0         0.0         0.0    0.000000   \n",
       "A01_A01_RT_401         0.0         0.0         0.0         0.0    0.000000   \n",
       "A01_A01_RT_402         0.0         0.0         0.0         0.0    0.255676   \n",
       "...                    ...         ...         ...         ...         ...   \n",
       "H12_B02_RT_745         0.0         0.0         0.0         0.0    0.000000   \n",
       "H12_B02_RT_750         0.0         0.0         0.0         0.0    0.000000   \n",
       "H12_B02_RT_752         0.0         0.0         0.0         0.0    0.000000   \n",
       "H12_B02_RT_753         0.0         0.0         0.0         0.0    0.000000   \n",
       "H12_B02_RT_761         0.0         0.0         0.0         0.0    0.000000   \n",
       "\n",
       "index           AL034417.3  AC087269.2  AL358472.5  \n",
       "index                                               \n",
       "A01_A01_RT_390         0.0         0.0    0.000000  \n",
       "A01_A01_RT_396         0.0         0.0    0.000000  \n",
       "A01_A01_RT_400         0.0         0.0    0.000000  \n",
       "A01_A01_RT_401         0.0         0.0    0.000000  \n",
       "A01_A01_RT_402         0.0         0.0    0.000000  \n",
       "...                    ...         ...         ...  \n",
       "H12_B02_RT_745         0.0         0.0    0.000000  \n",
       "H12_B02_RT_750         0.0         0.0    0.000000  \n",
       "H12_B02_RT_752         0.0         0.0    0.000000  \n",
       "H12_B02_RT_753         0.0         0.0    0.000000  \n",
       "H12_B02_RT_761         0.0         0.0    0.409592  \n",
       "\n",
       "[14811 rows x 4999 columns]"
      ]
     },
     "execution_count": 3,
     "metadata": {},
     "output_type": "execute_result"
    }
   ],
   "source": [
    "adata.to_df()"
   ]
  },
  {
   "cell_type": "code",
   "execution_count": 4,
   "metadata": {},
   "outputs": [
    {
     "data": {
      "text/html": [
       "<div>\n",
       "<style scoped>\n",
       "    .dataframe tbody tr th:only-of-type {\n",
       "        vertical-align: middle;\n",
       "    }\n",
       "\n",
       "    .dataframe tbody tr th {\n",
       "        vertical-align: top;\n",
       "    }\n",
       "\n",
       "    .dataframe thead th {\n",
       "        text-align: right;\n",
       "    }\n",
       "</style>\n",
       "<table border=\"1\" class=\"dataframe\">\n",
       "  <thead>\n",
       "    <tr style=\"text-align: right;\">\n",
       "      <th></th>\n",
       "      <th>sample</th>\n",
       "      <th>size_factor</th>\n",
       "      <th>n.umi</th>\n",
       "      <th>hash_umis</th>\n",
       "      <th>pval</th>\n",
       "      <th>qval</th>\n",
       "      <th>top_to_second_best_ratio</th>\n",
       "      <th>top_oligo</th>\n",
       "      <th>drug</th>\n",
       "      <th>dose</th>\n",
       "      <th>...</th>\n",
       "      <th>mt_frac</th>\n",
       "      <th>product_dose</th>\n",
       "      <th>louvain</th>\n",
       "      <th>dose_val</th>\n",
       "      <th>cell_type</th>\n",
       "      <th>drug_dose_name</th>\n",
       "      <th>cov_drug_dose_name</th>\n",
       "      <th>condition</th>\n",
       "      <th>control</th>\n",
       "      <th>split</th>\n",
       "    </tr>\n",
       "    <tr>\n",
       "      <th>index</th>\n",
       "      <th></th>\n",
       "      <th></th>\n",
       "      <th></th>\n",
       "      <th></th>\n",
       "      <th></th>\n",
       "      <th></th>\n",
       "      <th></th>\n",
       "      <th></th>\n",
       "      <th></th>\n",
       "      <th></th>\n",
       "      <th></th>\n",
       "      <th></th>\n",
       "      <th></th>\n",
       "      <th></th>\n",
       "      <th></th>\n",
       "      <th></th>\n",
       "      <th></th>\n",
       "      <th></th>\n",
       "      <th></th>\n",
       "      <th></th>\n",
       "      <th></th>\n",
       "    </tr>\n",
       "  </thead>\n",
       "  <tbody>\n",
       "    <tr>\n",
       "      <th>A01_A01_RT_390</th>\n",
       "      <td>sciChem18</td>\n",
       "      <td>0.849329</td>\n",
       "      <td>3430.0</td>\n",
       "      <td>16.0</td>\n",
       "      <td>1.404159e-140</td>\n",
       "      <td>3.650813e-139</td>\n",
       "      <td>15.005464</td>\n",
       "      <td>Nutlin_0.5_AB02</td>\n",
       "      <td>Nutlin</td>\n",
       "      <td>0.5</td>\n",
       "      <td>...</td>\n",
       "      <td>0.089213</td>\n",
       "      <td>Nutlin 0.5</td>\n",
       "      <td>1</td>\n",
       "      <td>0.005</td>\n",
       "      <td>A549</td>\n",
       "      <td>Nutlin_0.005</td>\n",
       "      <td>A549_Nutlin_0.005</td>\n",
       "      <td>Nutlin</td>\n",
       "      <td>0</td>\n",
       "      <td>test</td>\n",
       "    </tr>\n",
       "    <tr>\n",
       "      <th>A01_A01_RT_396</th>\n",
       "      <td>sciChem18</td>\n",
       "      <td>1.612486</td>\n",
       "      <td>6512.0</td>\n",
       "      <td>35.0</td>\n",
       "      <td>0.000000e+00</td>\n",
       "      <td>0.000000e+00</td>\n",
       "      <td>2.379168</td>\n",
       "      <td>Dex_50_BC10</td>\n",
       "      <td>Dex</td>\n",
       "      <td>50.0</td>\n",
       "      <td>...</td>\n",
       "      <td>0.045455</td>\n",
       "      <td>Dex 50.0</td>\n",
       "      <td>7</td>\n",
       "      <td>0.500</td>\n",
       "      <td>A549</td>\n",
       "      <td>Dex_0.5</td>\n",
       "      <td>A549_Dex_0.5</td>\n",
       "      <td>Dex</td>\n",
       "      <td>0</td>\n",
       "      <td>ood</td>\n",
       "    </tr>\n",
       "    <tr>\n",
       "      <th>A01_A01_RT_400</th>\n",
       "      <td>sciChem18</td>\n",
       "      <td>0.786681</td>\n",
       "      <td>3177.0</td>\n",
       "      <td>23.0</td>\n",
       "      <td>3.035262e-222</td>\n",
       "      <td>9.409311e-221</td>\n",
       "      <td>20.920000</td>\n",
       "      <td>Nutlin_0_AB04</td>\n",
       "      <td>Vehicle</td>\n",
       "      <td>0.0</td>\n",
       "      <td>...</td>\n",
       "      <td>0.094429</td>\n",
       "      <td>Vehicle 0.0</td>\n",
       "      <td>3</td>\n",
       "      <td>1.000</td>\n",
       "      <td>A549</td>\n",
       "      <td>Vehicle_1.0</td>\n",
       "      <td>A549_Vehicle_1.0</td>\n",
       "      <td>Vehicle</td>\n",
       "      <td>1</td>\n",
       "      <td>train</td>\n",
       "    </tr>\n",
       "    <tr>\n",
       "      <th>A01_A01_RT_401</th>\n",
       "      <td>sciChem18</td>\n",
       "      <td>1.258641</td>\n",
       "      <td>5083.0</td>\n",
       "      <td>69.0</td>\n",
       "      <td>0.000000e+00</td>\n",
       "      <td>0.000000e+00</td>\n",
       "      <td>1.892483</td>\n",
       "      <td>BMS_0.1_BH11</td>\n",
       "      <td>BMS</td>\n",
       "      <td>0.1</td>\n",
       "      <td>...</td>\n",
       "      <td>0.084596</td>\n",
       "      <td>BMS 0.1</td>\n",
       "      <td>1</td>\n",
       "      <td>0.001</td>\n",
       "      <td>A549</td>\n",
       "      <td>BMS_0.001</td>\n",
       "      <td>A549_BMS_0.001</td>\n",
       "      <td>BMS</td>\n",
       "      <td>0</td>\n",
       "      <td>train</td>\n",
       "    </tr>\n",
       "    <tr>\n",
       "      <th>A01_A01_RT_402</th>\n",
       "      <td>sciChem18</td>\n",
       "      <td>3.432476</td>\n",
       "      <td>13862.0</td>\n",
       "      <td>104.0</td>\n",
       "      <td>0.000000e+00</td>\n",
       "      <td>0.000000e+00</td>\n",
       "      <td>1.262781</td>\n",
       "      <td>Nutlin_10_AA03</td>\n",
       "      <td>Nutlin</td>\n",
       "      <td>10.0</td>\n",
       "      <td>...</td>\n",
       "      <td>0.063771</td>\n",
       "      <td>Nutlin 10.0</td>\n",
       "      <td>3</td>\n",
       "      <td>0.100</td>\n",
       "      <td>A549</td>\n",
       "      <td>Nutlin_0.1</td>\n",
       "      <td>A549_Nutlin_0.1</td>\n",
       "      <td>Nutlin</td>\n",
       "      <td>0</td>\n",
       "      <td>test</td>\n",
       "    </tr>\n",
       "    <tr>\n",
       "      <th>...</th>\n",
       "      <td>...</td>\n",
       "      <td>...</td>\n",
       "      <td>...</td>\n",
       "      <td>...</td>\n",
       "      <td>...</td>\n",
       "      <td>...</td>\n",
       "      <td>...</td>\n",
       "      <td>...</td>\n",
       "      <td>...</td>\n",
       "      <td>...</td>\n",
       "      <td>...</td>\n",
       "      <td>...</td>\n",
       "      <td>...</td>\n",
       "      <td>...</td>\n",
       "      <td>...</td>\n",
       "      <td>...</td>\n",
       "      <td>...</td>\n",
       "      <td>...</td>\n",
       "      <td>...</td>\n",
       "      <td>...</td>\n",
       "      <td>...</td>\n",
       "    </tr>\n",
       "    <tr>\n",
       "      <th>H12_B02_RT_745</th>\n",
       "      <td>sciChem18</td>\n",
       "      <td>0.731463</td>\n",
       "      <td>2954.0</td>\n",
       "      <td>63.0</td>\n",
       "      <td>0.000000e+00</td>\n",
       "      <td>0.000000e+00</td>\n",
       "      <td>63.363772</td>\n",
       "      <td>Nutlin_1_AB01</td>\n",
       "      <td>Nutlin</td>\n",
       "      <td>1.0</td>\n",
       "      <td>...</td>\n",
       "      <td>0.072444</td>\n",
       "      <td>Nutlin 1.0</td>\n",
       "      <td>3</td>\n",
       "      <td>0.010</td>\n",
       "      <td>A549</td>\n",
       "      <td>Nutlin_0.01</td>\n",
       "      <td>A549_Nutlin_0.01</td>\n",
       "      <td>Nutlin</td>\n",
       "      <td>0</td>\n",
       "      <td>train</td>\n",
       "    </tr>\n",
       "    <tr>\n",
       "      <th>H12_B02_RT_750</th>\n",
       "      <td>sciChem18</td>\n",
       "      <td>0.611616</td>\n",
       "      <td>2470.0</td>\n",
       "      <td>116.0</td>\n",
       "      <td>0.000000e+00</td>\n",
       "      <td>0.000000e+00</td>\n",
       "      <td>143.054022</td>\n",
       "      <td>Nutlin_50_AA10</td>\n",
       "      <td>Nutlin</td>\n",
       "      <td>50.0</td>\n",
       "      <td>...</td>\n",
       "      <td>0.014575</td>\n",
       "      <td>Nutlin 50.0</td>\n",
       "      <td>5</td>\n",
       "      <td>0.500</td>\n",
       "      <td>A549</td>\n",
       "      <td>Nutlin_0.5</td>\n",
       "      <td>A549_Nutlin_0.5</td>\n",
       "      <td>Nutlin</td>\n",
       "      <td>0</td>\n",
       "      <td>ood</td>\n",
       "    </tr>\n",
       "    <tr>\n",
       "      <th>H12_B02_RT_752</th>\n",
       "      <td>sciChem18</td>\n",
       "      <td>3.208135</td>\n",
       "      <td>12956.0</td>\n",
       "      <td>63.0</td>\n",
       "      <td>0.000000e+00</td>\n",
       "      <td>0.000000e+00</td>\n",
       "      <td>4.731265</td>\n",
       "      <td>BMS_0.1_BG07</td>\n",
       "      <td>BMS</td>\n",
       "      <td>0.1</td>\n",
       "      <td>...</td>\n",
       "      <td>0.088916</td>\n",
       "      <td>BMS 0.1</td>\n",
       "      <td>3</td>\n",
       "      <td>0.001</td>\n",
       "      <td>A549</td>\n",
       "      <td>BMS_0.001</td>\n",
       "      <td>A549_BMS_0.001</td>\n",
       "      <td>BMS</td>\n",
       "      <td>0</td>\n",
       "      <td>train</td>\n",
       "    </tr>\n",
       "    <tr>\n",
       "      <th>H12_B02_RT_753</th>\n",
       "      <td>sciChem18</td>\n",
       "      <td>1.534982</td>\n",
       "      <td>6199.0</td>\n",
       "      <td>85.0</td>\n",
       "      <td>0.000000e+00</td>\n",
       "      <td>0.000000e+00</td>\n",
       "      <td>81.158163</td>\n",
       "      <td>Nutlin_0.1_AA07</td>\n",
       "      <td>Nutlin</td>\n",
       "      <td>0.1</td>\n",
       "      <td>...</td>\n",
       "      <td>0.060655</td>\n",
       "      <td>Nutlin 0.1</td>\n",
       "      <td>1</td>\n",
       "      <td>0.001</td>\n",
       "      <td>A549</td>\n",
       "      <td>Nutlin_0.001</td>\n",
       "      <td>A549_Nutlin_0.001</td>\n",
       "      <td>Nutlin</td>\n",
       "      <td>0</td>\n",
       "      <td>test</td>\n",
       "    </tr>\n",
       "    <tr>\n",
       "      <th>H12_B02_RT_761</th>\n",
       "      <td>sciChem18</td>\n",
       "      <td>1.975494</td>\n",
       "      <td>7978.0</td>\n",
       "      <td>143.0</td>\n",
       "      <td>0.000000e+00</td>\n",
       "      <td>0.000000e+00</td>\n",
       "      <td>1.161462</td>\n",
       "      <td>SAHA_10_BE03</td>\n",
       "      <td>SAHA</td>\n",
       "      <td>10.0</td>\n",
       "      <td>...</td>\n",
       "      <td>0.032715</td>\n",
       "      <td>SAHA 10.0</td>\n",
       "      <td>4</td>\n",
       "      <td>0.100</td>\n",
       "      <td>A549</td>\n",
       "      <td>SAHA_0.1</td>\n",
       "      <td>A549_SAHA_0.1</td>\n",
       "      <td>SAHA</td>\n",
       "      <td>0</td>\n",
       "      <td>test</td>\n",
       "    </tr>\n",
       "  </tbody>\n",
       "</table>\n",
       "<p>14811 rows × 24 columns</p>\n",
       "</div>"
      ],
      "text/plain": [
       "                   sample  size_factor    n.umi  hash_umis           pval   \n",
       "index                                                                       \n",
       "A01_A01_RT_390  sciChem18     0.849329   3430.0       16.0  1.404159e-140  \\\n",
       "A01_A01_RT_396  sciChem18     1.612486   6512.0       35.0   0.000000e+00   \n",
       "A01_A01_RT_400  sciChem18     0.786681   3177.0       23.0  3.035262e-222   \n",
       "A01_A01_RT_401  sciChem18     1.258641   5083.0       69.0   0.000000e+00   \n",
       "A01_A01_RT_402  sciChem18     3.432476  13862.0      104.0   0.000000e+00   \n",
       "...                   ...          ...      ...        ...            ...   \n",
       "H12_B02_RT_745  sciChem18     0.731463   2954.0       63.0   0.000000e+00   \n",
       "H12_B02_RT_750  sciChem18     0.611616   2470.0      116.0   0.000000e+00   \n",
       "H12_B02_RT_752  sciChem18     3.208135  12956.0       63.0   0.000000e+00   \n",
       "H12_B02_RT_753  sciChem18     1.534982   6199.0       85.0   0.000000e+00   \n",
       "H12_B02_RT_761  sciChem18     1.975494   7978.0      143.0   0.000000e+00   \n",
       "\n",
       "                         qval  top_to_second_best_ratio        top_oligo   \n",
       "index                                                                      \n",
       "A01_A01_RT_390  3.650813e-139                 15.005464  Nutlin_0.5_AB02  \\\n",
       "A01_A01_RT_396   0.000000e+00                  2.379168      Dex_50_BC10   \n",
       "A01_A01_RT_400  9.409311e-221                 20.920000    Nutlin_0_AB04   \n",
       "A01_A01_RT_401   0.000000e+00                  1.892483     BMS_0.1_BH11   \n",
       "A01_A01_RT_402   0.000000e+00                  1.262781   Nutlin_10_AA03   \n",
       "...                       ...                       ...              ...   \n",
       "H12_B02_RT_745   0.000000e+00                 63.363772    Nutlin_1_AB01   \n",
       "H12_B02_RT_750   0.000000e+00                143.054022   Nutlin_50_AA10   \n",
       "H12_B02_RT_752   0.000000e+00                  4.731265     BMS_0.1_BG07   \n",
       "H12_B02_RT_753   0.000000e+00                 81.158163  Nutlin_0.1_AA07   \n",
       "H12_B02_RT_761   0.000000e+00                  1.161462     SAHA_10_BE03   \n",
       "\n",
       "                   drug  dose  ...   mt_frac  product_dose  louvain  dose_val   \n",
       "index                          ...                                              \n",
       "A01_A01_RT_390   Nutlin   0.5  ...  0.089213    Nutlin 0.5        1     0.005  \\\n",
       "A01_A01_RT_396      Dex  50.0  ...  0.045455      Dex 50.0        7     0.500   \n",
       "A01_A01_RT_400  Vehicle   0.0  ...  0.094429   Vehicle 0.0        3     1.000   \n",
       "A01_A01_RT_401      BMS   0.1  ...  0.084596       BMS 0.1        1     0.001   \n",
       "A01_A01_RT_402   Nutlin  10.0  ...  0.063771   Nutlin 10.0        3     0.100   \n",
       "...                 ...   ...  ...       ...           ...      ...       ...   \n",
       "H12_B02_RT_745   Nutlin   1.0  ...  0.072444    Nutlin 1.0        3     0.010   \n",
       "H12_B02_RT_750   Nutlin  50.0  ...  0.014575   Nutlin 50.0        5     0.500   \n",
       "H12_B02_RT_752      BMS   0.1  ...  0.088916       BMS 0.1        3     0.001   \n",
       "H12_B02_RT_753   Nutlin   0.1  ...  0.060655    Nutlin 0.1        1     0.001   \n",
       "H12_B02_RT_761     SAHA  10.0  ...  0.032715     SAHA 10.0        4     0.100   \n",
       "\n",
       "                cell_type drug_dose_name cov_drug_dose_name  condition   \n",
       "index                                                                    \n",
       "A01_A01_RT_390       A549   Nutlin_0.005  A549_Nutlin_0.005     Nutlin  \\\n",
       "A01_A01_RT_396       A549        Dex_0.5       A549_Dex_0.5        Dex   \n",
       "A01_A01_RT_400       A549    Vehicle_1.0   A549_Vehicle_1.0    Vehicle   \n",
       "A01_A01_RT_401       A549      BMS_0.001     A549_BMS_0.001        BMS   \n",
       "A01_A01_RT_402       A549     Nutlin_0.1    A549_Nutlin_0.1     Nutlin   \n",
       "...                   ...            ...                ...        ...   \n",
       "H12_B02_RT_745       A549    Nutlin_0.01   A549_Nutlin_0.01     Nutlin   \n",
       "H12_B02_RT_750       A549     Nutlin_0.5    A549_Nutlin_0.5     Nutlin   \n",
       "H12_B02_RT_752       A549      BMS_0.001     A549_BMS_0.001        BMS   \n",
       "H12_B02_RT_753       A549   Nutlin_0.001  A549_Nutlin_0.001     Nutlin   \n",
       "H12_B02_RT_761       A549       SAHA_0.1      A549_SAHA_0.1       SAHA   \n",
       "\n",
       "               control  split  \n",
       "index                          \n",
       "A01_A01_RT_390       0   test  \n",
       "A01_A01_RT_396       0    ood  \n",
       "A01_A01_RT_400       1  train  \n",
       "A01_A01_RT_401       0  train  \n",
       "A01_A01_RT_402       0   test  \n",
       "...                ...    ...  \n",
       "H12_B02_RT_745       0  train  \n",
       "H12_B02_RT_750       0    ood  \n",
       "H12_B02_RT_752       0  train  \n",
       "H12_B02_RT_753       0   test  \n",
       "H12_B02_RT_761       0   test  \n",
       "\n",
       "[14811 rows x 24 columns]"
      ]
     },
     "execution_count": 4,
     "metadata": {},
     "output_type": "execute_result"
    }
   ],
   "source": [
    "adata.obs"
   ]
  },
  {
   "cell_type": "code",
   "execution_count": null,
   "metadata": {},
   "outputs": [],
   "source": [
    "adata.var"
   ]
  },
  {
   "cell_type": "code",
   "execution_count": null,
   "metadata": {},
   "outputs": [],
   "source": [
    "adata.obs['split'].cat.categories "
   ]
  },
  {
   "cell_type": "code",
   "execution_count": null,
   "metadata": {},
   "outputs": [],
   "source": [
    "adata.to_df()"
   ]
  },
  {
   "cell_type": "code",
   "execution_count": null,
   "metadata": {},
   "outputs": [],
   "source": [
    "adata.obs.head()"
   ]
  },
  {
   "cell_type": "code",
   "execution_count": null,
   "metadata": {
    "tags": []
   },
   "outputs": [],
   "source": [
    "cpa_api = cpa.api.API(\n",
    "    adata, \n",
    "    perturbation_key='condition',\n",
    "    doser_type='logsigm',\n",
    "    split_key='split',\n",
    "    covariate_keys=[],\n",
    "    save_dir=model_save_dir,\n",
    "    only_parameters=False,\n",
    "    hparams={}, \n",
    ")"
   ]
  },
  {
   "cell_type": "markdown",
   "metadata": {},
   "source": [
    "You can print parameters of the model:"
   ]
  },
  {
   "cell_type": "code",
   "execution_count": null,
   "metadata": {},
   "outputs": [],
   "source": [
    "cpa_api.model"
   ]
  },
  {
   "cell_type": "markdown",
   "metadata": {},
   "source": [
    "### Start training"
   ]
  },
  {
   "cell_type": "code",
   "execution_count": null,
   "metadata": {},
   "outputs": [],
   "source": [
    "cpa_api.train(\n",
    "    max_epochs=100, \n",
    "    run_eval=True, \n",
    "    checkpoint_freq=20,\n",
    "    filename='gsm.pt', \n",
    "    max_minutes=2*60\n",
    ")"
   ]
  },
  {
   "cell_type": "markdown",
   "metadata": {},
   "source": [
    "### Visualize training history"
   ]
  },
  {
   "cell_type": "code",
   "execution_count": null,
   "metadata": {},
   "outputs": [],
   "source": [
    "from cpa.plotting import CPAHistory\n",
    "pretty_history = CPAHistory(cpa_api)\n",
    "pretty_history.print_time()\n",
    "pretty_history.plot_losses()\n",
    "pretty_history.plot_r2_metrics(epoch_min=0)\n",
    "pretty_history.plot_disentanglement_metrics(epoch_min=0)"
   ]
  },
  {
   "cell_type": "code",
   "execution_count": null,
   "metadata": {},
   "outputs": [],
   "source": [
    "cpa_api = cpa.api.API(\n",
    "    adata, \n",
    "    pretrained='pretrained_models/gsm.pt'\n",
    ")"
   ]
  },
  {
   "cell_type": "code",
   "execution_count": null,
   "metadata": {},
   "outputs": [],
   "source": [
    "perts_anndata = cpa_api.get_drug_embeddings()\n",
    "perts_anndata"
   ]
  },
  {
   "cell_type": "markdown",
   "metadata": {},
   "source": [
    "Print and plot covars embeddings."
   ]
  },
  {
   "cell_type": "code",
   "execution_count": null,
   "metadata": {},
   "outputs": [],
   "source": [
    "covars_anndata = cpa_api.get_covars_embeddings('cell_type')\n",
    "covars_anndata.to_df()"
   ]
  },
  {
   "cell_type": "code",
   "execution_count": null,
   "metadata": {},
   "outputs": [],
   "source": [
    "cpa_api.compute_comb_emb(thrh=0)\n",
    "cpa_api.compute_uncertainty(\n",
    "                    cov={'cell_type': 'A549'}, \n",
    "                    pert='Nutlin', \n",
    "                    dose='1.0'\n",
    "                )"
   ]
  },
  {
   "cell_type": "markdown",
   "metadata": {},
   "source": [
    "Setting up a variable for automatic plotting. The plots also could be used separately."
   ]
  },
  {
   "cell_type": "code",
   "execution_count": null,
   "metadata": {},
   "outputs": [],
   "source": [
    "cpa_plots = cpa.plotting.CPAVisuals(cpa_api, fileprefix=None)"
   ]
  },
  {
   "cell_type": "code",
   "execution_count": null,
   "metadata": {},
   "outputs": [],
   "source": [
    "cpa_api.emb_perts[0].shape"
   ]
  },
  {
   "cell_type": "code",
   "execution_count": null,
   "metadata": {},
   "outputs": [],
   "source": [
    "from sklearn.datasets import load_digits\n",
    "import matplotlib.pyplot as plt\n",
    "import umap\n",
    "reducer = umap.UMAP(random_state=42)\n",
    "embedding = reducer.fit_transform(cpa_api.emb_perts)\n",
    "print(embedding.shape)\n",
    "targets = np.unique(adata.obs['condition'])\n",
    "plt.scatter(embedding[:, 0], embedding[:, 1], c=[0,1,2,3,4], cmap='Spectral', s=5)\n",
    "plt.title('UMAP projection of the Digits dataset')\n",
    "plt.show()"
   ]
  },
  {
   "cell_type": "code",
   "execution_count": null,
   "metadata": {},
   "outputs": [],
   "source": [
    "# 经过kernel PCA降维后的perturbation（drug）表征可视化效果\n",
    "cpa_plots.plot_latent_embeddings(cpa_api.emb_perts, kind='perturbations', show_text=True)"
   ]
  },
  {
   "cell_type": "code",
   "execution_count": null,
   "metadata": {},
   "outputs": [],
   "source": [
    "cpa_plots.plot_latent_embeddings(cpa_api.emb_perts + covars_anndata.X, kind='perturbations', show_text=True)"
   ]
  },
  {
   "cell_type": "markdown",
   "metadata": {},
   "source": [
    "If your have a lot of cell types or a lot of perturbations, you can also chose to not display their names."
   ]
  },
  {
   "cell_type": "code",
   "execution_count": null,
   "metadata": {},
   "outputs": [],
   "source": [
    "cpa_plots.plot_latent_embeddings(cpa_api.emb_perts, kind='perturbations', show_text=False)"
   ]
  },
  {
   "cell_type": "markdown",
   "metadata": {},
   "source": [
    "Or I can change the color scheme for the emebddings."
   ]
  },
  {
   "cell_type": "code",
   "execution_count": null,
   "metadata": {},
   "outputs": [],
   "source": [
    "perts_palette = {'BMS': '#999999',                 \n",
    "                 'SAHA': '#4daf4a',\n",
    "                 'Dex': '#377eb8',\n",
    "                 'Nutlin': '#e41a1c',\n",
    "                 'Vehicle': '#000000'\n",
    "    \n",
    "                }\n",
    "\n",
    "cpa_plots.perts_palette = perts_palette\n",
    "cpa_plots.plot_latent_embeddings(cpa_api.emb_perts, kind='perturbations', show_text=True)\n",
    "cpa_plots.plot_latent_embeddings(cpa_api.emb_perts + covars_anndata.X, kind='perturbations', show_text=True)"
   ]
  },
  {
   "cell_type": "code",
   "execution_count": null,
   "metadata": {},
   "outputs": [],
   "source": [
    "cpa_plots.plot_latent_embeddings(list(cpa_api.emb_covars['cell_type'].values()), kind='cell_type')"
   ]
  },
  {
   "cell_type": "code",
   "execution_count": null,
   "metadata": {},
   "outputs": [],
   "source": [
    "latent_response = cpa_api.latent_dose_response(perturbations=None)\n",
    "print(latent_response)\n",
    "cpa_plots.plot_contvar_response(\n",
    "    latent_response, \n",
    "    postfix='latent',\n",
    "    var_name=cpa_api.perturbation_key,\n",
    "    title_name='Latent dose response')"
   ]
  },
  {
   "cell_type": "code",
   "execution_count": null,
   "metadata": {},
   "outputs": [],
   "source": [
    "perturbations_pair = ['Nutlin', 'BMS']\n",
    "latent_dose_2D = cpa_api.latent_dose_response2D(perturbations_pair, n_points=100)\n",
    "cpa_plots.plot_contvar_response2D(latent_dose_2D, \n",
    "        title_name='Latent dose-response')\n"
   ]
  },
  {
   "cell_type": "code",
   "execution_count": null,
   "metadata": {},
   "outputs": [],
   "source": [
    "%%time\n",
    "\n",
    "reconstructed_response2D = cpa_api.get_response2D(\n",
    "    perturbations=perturbations_pair,\n",
    "    covar={'cell_type': ['A549']}\n",
    ")\n",
    "\n",
    "\n",
    "cpa_plots.plot_contvar_response2D(\n",
    "    reconstructed_response2D,\n",
    "    title_name='Reconstructed dose-response  2D',\n",
    "    logdose=False,\n",
    "    # xlims=(-3, 0), ylims=(-3, 0)\n",
    "    )\n",
    "\n",
    "cpa_plots.plot_contvar_response2D(\n",
    "    reconstructed_response2D,\n",
    "    title_name='Reconstructed log10-dose-response 2D',\n",
    "    logdose=True,\n",
    "    xlims=(-3, 0), ylims=(-3, 0)\n",
    "    )"
   ]
  },
  {
   "cell_type": "markdown",
   "metadata": {},
   "source": [
    "If you want to plot in on a log scale, you can just log values in the data frame."
   ]
  },
  {
   "cell_type": "code",
   "execution_count": null,
   "metadata": {},
   "outputs": [],
   "source": [
    "# %%time\n",
    "df_reference = cpa_api.get_response_reference()        "
   ]
  },
  {
   "cell_type": "code",
   "execution_count": null,
   "metadata": {},
   "outputs": [],
   "source": [
    "# %%time\n",
    "reconstructed_response = cpa_api.get_response(n_points=100)"
   ]
  },
  {
   "cell_type": "markdown",
   "metadata": {},
   "source": [
    "You can plot an average response (saved under \"response\" column) among all genes, however, we don't consider it to be a good metric and strongly advise to look at the individual response among DE genes.\n",
    "\n",
    "Solid lines in this plot correspond to the model predictions, dashed lines -- linear interpolations between measured points. Dots represent measured points, their color is proportional to the number of cells in this condition. Black dots represent points used in training and red dots correspond to the out-of-distribution examples."
   ]
  },
  {
   "cell_type": "code",
   "execution_count": null,
   "metadata": {},
   "outputs": [],
   "source": [
    "df_reference = df_reference.replace('training_treated', 'train')\n",
    "cpa_plots.plot_contvar_response(\n",
    "    reconstructed_response, \n",
    "    df_ref=df_reference, \n",
    "    postfix='reconstructed',\n",
    "    title_name='Reconstructed dose response')"
   ]
  },
  {
   "cell_type": "markdown",
   "metadata": {},
   "source": [
    "For example we can take of the top 50 DE genes for Nutlin - MDM2. MDM2 is itself transcriptionally-regulated by p53. And p53 is the target of Nutlin. Therefore, we expect our model to learn it."
   ]
  },
  {
   "cell_type": "code",
   "execution_count": null,
   "metadata": {},
   "outputs": [],
   "source": [
    "cpa_plots.plot_contvar_response(\n",
    "    reconstructed_response, \n",
    "    df_ref=df_reference,\n",
    "    response_name='MDM2',\n",
    "    postfix='MDM2',\n",
    "    title_name='Reconstructed dose response of MDM2')"
   ]
  },
  {
   "cell_type": "markdown",
   "metadata": {},
   "source": [
    "We can also look at this plot on the log10-scale. It makes sense for this dataset, because the measured doses were not evenly distributed."
   ]
  },
  {
   "cell_type": "code",
   "execution_count": null,
   "metadata": {},
   "outputs": [],
   "source": [
    "cpa_plots.plot_contvar_response(\n",
    "    reconstructed_response, \n",
    "    df_ref=df_reference,\n",
    "    response_name='MDM2',\n",
    "    postfix='MDM2',\n",
    "    logdose=True,\n",
    "    title_name='Reconstructed log10-dose response of MDM2')"
   ]
  },
  {
   "cell_type": "markdown",
   "metadata": {},
   "source": [
    "# Predictions"
   ]
  },
  {
   "cell_type": "code",
   "execution_count": null,
   "metadata": {},
   "outputs": [],
   "source": [
    "print('Perturbations:', cpa_api.unique_perts)\n",
    "print('Covariates:', cpa_api.unique_covars)\n",
    "print('Datasets splits:', cpa_api.datasets.keys())"
   ]
  },
  {
   "cell_type": "markdown",
   "metadata": {},
   "source": [
    "We can chose control cells from which we want to make our predictions. It is easy to chose these cells from either training or test splits."
   ]
  },
  {
   "cell_type": "code",
   "execution_count": null,
   "metadata": {},
   "outputs": [],
   "source": [
    "genes_control = cpa_api.datasets['test'].subset_condition(control=True).genes\n",
    "genes_control"
   ]
  },
  {
   "cell_type": "markdown",
   "metadata": {},
   "source": [
    "By default, the prediction function returns means and variances of the applied perturbations. By default, the prediction function returns means and variances of the applied perturbations. "
   ]
  },
  {
   "cell_type": "code",
   "execution_count": null,
   "metadata": {},
   "outputs": [],
   "source": [
    "%%time\n",
    "anndata_predicted = cpa_api.predict(\n",
    "    genes_control,\n",
    "    cov={'cell_type': ['A549']}, \n",
    "    pert=['BMS'], \n",
    "    dose=['1.0'],\n",
    "    return_anndata=True,\n",
    "    sample=False\n",
    ")\n",
    "anndata_predicted.shape"
   ]
  },
  {
   "cell_type": "markdown",
   "metadata": {},
   "source": [
    "However, in some cases you want to sample from this distribution, so you can explicitly specify it in the predict function."
   ]
  },
  {
   "cell_type": "code",
   "execution_count": null,
   "metadata": {},
   "outputs": [],
   "source": [
    "%%time\n",
    "anndata_predicted_samples = cpa_api.predict(\n",
    "    genes_control,\n",
    "    cov={'cell_type': ['A549', 'A549']}, \n",
    "    pert=['BMS', 'Dex'], \n",
    "    dose=['1.0', '1.0'],\n",
    "    return_anndata=True,\n",
    "    sample=True,\n",
    "    n_samples=100\n",
    ")\n",
    "anndata_predicted_samples.shape"
   ]
  },
  {
   "cell_type": "markdown",
   "metadata": {},
   "source": [
    "# Evaluation"
   ]
  },
  {
   "cell_type": "code",
   "execution_count": null,
   "metadata": {},
   "outputs": [],
   "source": [
    "genes_control = cpa_api.datasets['training'].subset_condition(control=True).genes\n",
    "df_train = cpa_api.evaluate_r2(cpa_api.datasets['training'].subset_condition(control=False), genes_control)\n",
    "df_train['benchmark'] = 'CPA'"
   ]
  },
  {
   "cell_type": "code",
   "execution_count": null,
   "metadata": {},
   "outputs": [],
   "source": [
    "genes_control = cpa_api.datasets['test'].subset_condition(control=True).genes\n",
    "df_ood = cpa_api.evaluate_r2(cpa_api.datasets['ood'], genes_control)\n",
    "df_ood['benchmark'] = 'CPA'"
   ]
  },
  {
   "cell_type": "code",
   "execution_count": null,
   "metadata": {},
   "outputs": [],
   "source": [
    "genes_control = cpa_api.datasets['test'].subset_condition(control=True).genes\n",
    "df_test = cpa_api.evaluate_r2(cpa_api.datasets['test'].subset_condition(control=False), genes_control)\n",
    "df_test['benchmark'] = 'CPA'"
   ]
  },
  {
   "cell_type": "code",
   "execution_count": null,
   "metadata": {},
   "outputs": [],
   "source": [
    "df_test = cpa_api.evaluate_r2(cpa_api.datasets['test'].subset_condition(control=False), genes_control)\n",
    "df_test['benchmark'] = 'CPA'"
   ]
  },
  {
   "cell_type": "code",
   "execution_count": null,
   "metadata": {},
   "outputs": [],
   "source": [
    "df_ood['split'] = 'ood'\n",
    "df_test['split'] ='test'\n",
    "df_train['split'] ='train'"
   ]
  },
  {
   "cell_type": "code",
   "execution_count": null,
   "metadata": {
    "scrolled": true
   },
   "outputs": [],
   "source": [
    "df_score = pd.concat([df_train, df_test, df_ood])\n",
    "df_score.round(2).sort_values(by=['condition', 'R2_mean', 'R2_mean_DE'], ascending=False)"
   ]
  },
  {
   "cell_type": "code",
   "execution_count": null,
   "metadata": {
    "scrolled": true
   },
   "outputs": [],
   "source": [
    "cols_print = ['condition', 'dose_val','R2_mean', 'R2_mean_DE', 'R2_var', 'R2_var_DE', 'split', 'num_cells']\n",
    "df_score = df_score.round(2).sort_values(by=['condition', 'R2_mean', 'R2_mean_DE'], ascending=False)\n",
    "print(df_score[cols_print])\n",
    "# print(df_score[cols_print].to_latex(index=False))"
   ]
  },
  {
   "cell_type": "markdown",
   "metadata": {},
   "source": [
    "# Uncertainty"
   ]
  },
  {
   "cell_type": "markdown",
   "metadata": {},
   "source": [
    "We can profile all the predictions with an uncertainty score. Low uncertainty means \"good/trustworthy\" predictions, high values mean \"bad/unknown quality\" predictions."
   ]
  },
  {
   "cell_type": "code",
   "execution_count": null,
   "metadata": {},
   "outputs": [],
   "source": [
    "cpa_api.measured_points['all']"
   ]
  },
  {
   "cell_type": "code",
   "execution_count": null,
   "metadata": {},
   "outputs": [],
   "source": [
    "import cpa.plotting as pl\n",
    "\n",
    "for drug in ['Nutlin', 'BMS', 'Dex', 'SAHA']:\n",
    "    df_pred = pl.plot_uncertainty_dose(\n",
    "        cpa_api,\n",
    "        cov={'cell_type': 'A549'},\n",
    "        pert=drug,\n",
    "        N=51,\n",
    "        measured_points=cpa_api.measured_points['all'],\n",
    "        cond_key='condition',\n",
    "        log=True,\n",
    "        metric='eucl'\n",
    "    )"
   ]
  },
  {
   "cell_type": "markdown",
   "metadata": {},
   "source": [
    "Previously, we demonstrated CPA predictions for drugs combinations. But our training data didn't contain any combinations examples. How much can we trust these examples? We can try to asses by running model uncertainty predictions:"
   ]
  },
  {
   "cell_type": "code",
   "execution_count": null,
   "metadata": {},
   "outputs": [],
   "source": [
    "df_pred2D = pl.plot_uncertainty_comb_dose(\n",
    "    cpa_api=cpa_api,\n",
    "    cov={'cell_type': 'A549'},\n",
    "    pert='Nutlin+BMS',\n",
    "    N=51,\n",
    "    cond_key='treatment',\n",
    "    metric='eucl',\n",
    ")"
   ]
  },
  {
   "cell_type": "markdown",
   "metadata": {},
   "source": [
    "And here is the predicted response we plotted before:"
   ]
  },
  {
   "cell_type": "code",
   "execution_count": null,
   "metadata": {},
   "outputs": [],
   "source": [
    "cpa_plots.plot_contvar_response2D(\n",
    "    reconstructed_response2D, \n",
    "    title_name='Reconstructed dose-response',\n",
    "    logdose=False)"
   ]
  },
  {
   "cell_type": "code",
   "execution_count": null,
   "metadata": {},
   "outputs": [],
   "source": []
  }
 ],
 "metadata": {
  "kernelspec": {
   "display_name": "Python 3 (ipykernel)",
   "language": "python",
   "name": "python3"
  },
  "language_info": {
   "codemirror_mode": {
    "name": "ipython",
    "version": 3
   },
   "file_extension": ".py",
   "mimetype": "text/x-python",
   "name": "python",
   "nbconvert_exporter": "python",
   "pygments_lexer": "ipython3",
   "version": "3.9.16"
  }
 },
 "nbformat": 4,
 "nbformat_minor": 4
}
